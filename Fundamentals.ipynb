{
 "cells": [
  {
   "cell_type": "code",
   "execution_count": 14,
   "metadata": {},
   "outputs": [
    {
     "name": "stdout",
     "output_type": "stream",
     "text": [
      "5\n"
     ]
    }
   ],
   "source": [
    "a = 5\n",
    "print(a)"
   ]
  },
  {
   "cell_type": "markdown",
   "metadata": {},
   "source": [
    "# 1. Heading in my notebook\n",
    "### <I>Changing variable value</I>"
   ]
  },
  {
   "cell_type": "code",
   "execution_count": 11,
   "metadata": {},
   "outputs": [],
   "source": [
    "# python comment\n",
    "a = 7"
   ]
  },
  {
   "cell_type": "code",
   "execution_count": 12,
   "metadata": {},
   "outputs": [
    {
     "name": "stdout",
     "output_type": "stream",
     "text": [
      "7\n"
     ]
    }
   ],
   "source": [
    "print(a)"
   ]
  },
  {
   "cell_type": "code",
   "execution_count": 15,
   "metadata": {},
   "outputs": [
    {
     "name": "stdout",
     "output_type": "stream",
     "text": [
      "['False', 'None', 'True', 'and', 'as', 'assert', 'async', 'await', 'break', 'class', 'continue', 'def', 'del', 'elif', 'else', 'except', 'finally', 'for', 'from', 'global', 'if', 'import', 'in', 'is', 'lambda', 'nonlocal', 'not', 'or', 'pass', 'raise', 'return', 'try', 'while', 'with', 'yield']\n"
     ]
    }
   ],
   "source": [
    "import keyword\n",
    "print(keyword.kwlist)"
   ]
  },
  {
   "cell_type": "code",
   "execution_count": 16,
   "metadata": {},
   "outputs": [
    {
     "name": "stdout",
     "output_type": "stream",
     "text": [
      "total number of keywords in python: 35\n"
     ]
    }
   ],
   "source": [
    "print(\"total number of keywords in python:\",len(keyword.kwlist))"
   ]
  },
  {
   "cell_type": "code",
   "execution_count": 29,
   "metadata": {},
   "outputs": [],
   "source": [
    "# no need of telling type of variable\n",
    "x = 3\n",
    "y = \"Hello ji\""
   ]
  },
  {
   "cell_type": "code",
   "execution_count": 30,
   "metadata": {},
   "outputs": [
    {
     "name": "stdout",
     "output_type": "stream",
     "text": [
      "<class 'int'>\n",
      "<class 'str'>\n"
     ]
    }
   ],
   "source": [
    "# type() returns type of value held by variable\n",
    "print(type(x))\n",
    "print(type(y))"
   ]
  },
  {
   "cell_type": "code",
   "execution_count": 32,
   "metadata": {},
   "outputs": [
    {
     "data": {
      "text/plain": [
       "140723892594528"
      ]
     },
     "execution_count": 32,
     "metadata": {},
     "output_type": "execute_result"
    }
   ],
   "source": [
    "# returns address of x\n",
    "id(x)"
   ]
  },
  {
   "cell_type": "code",
   "execution_count": 41,
   "metadata": {},
   "outputs": [
    {
     "data": {
      "text/plain": [
       "2069300800176"
      ]
     },
     "execution_count": 41,
     "metadata": {},
     "output_type": "execute_result"
    }
   ],
   "source": [
    "# returns address of y\n",
    "id(y)\n"
   ]
  },
  {
   "cell_type": "markdown",
   "metadata": {},
   "source": [
    "# 2. Numerical operations"
   ]
  },
  {
   "cell_type": "code",
   "execution_count": 55,
   "metadata": {},
   "outputs": [],
   "source": [
    "m,n = 2,8"
   ]
  },
  {
   "cell_type": "code",
   "execution_count": 57,
   "metadata": {},
   "outputs": [
    {
     "name": "stdout",
     "output_type": "stream",
     "text": [
      "2 8 10 16 0.25\n"
     ]
    }
   ],
   "source": [
    "print (m,n,m+n,m*n,m/n)"
   ]
  },
  {
   "cell_type": "code",
   "execution_count": 58,
   "metadata": {},
   "outputs": [
    {
     "data": {
      "text/plain": [
       "float"
      ]
     },
     "execution_count": 58,
     "metadata": {},
     "output_type": "execute_result"
    }
   ],
   "source": [
    "div = m/n\n",
    "type(div)"
   ]
  },
  {
   "cell_type": "code",
   "execution_count": 56,
   "metadata": {},
   "outputs": [
    {
     "name": "stdout",
     "output_type": "stream",
     "text": [
      "2\n",
      "0 4\n",
      "256 64\n"
     ]
    }
   ],
   "source": [
    "print(m%n) # modulo\n",
    "print(m // n, n // m) # floored division (takes floor value of divided result)\n",
    "print(m ** n, n ** m) # power a ** b => a^b"
   ]
  },
  {
   "cell_type": "code",
   "execution_count": 61,
   "metadata": {},
   "outputs": [
    {
     "name": "stdout",
     "output_type": "stream",
     "text": [
      "5\n",
      "4\n"
     ]
    }
   ],
   "source": [
    "var = 2\n",
    "var +=3\n",
    "print(var)\n",
    "var -=1\n",
    "print(var)"
   ]
  },
  {
   "cell_type": "code",
   "execution_count": 86,
   "metadata": {},
   "outputs": [
    {
     "name": "stdout",
     "output_type": "stream",
     "text": [
      "3.0\n",
      "10.0\n",
      "1.000631880307906\n"
     ]
    }
   ],
   "source": [
    "import math\n",
    "print(math.log10(1000))\n",
    "print(math.log2(1024))\n",
    "print(math.log(2.72))"
   ]
  },
  {
   "cell_type": "code",
   "execution_count": 93,
   "metadata": {},
   "outputs": [
    {
     "data": {
      "text/plain": [
       "0.4997701026431024"
      ]
     },
     "execution_count": 93,
     "metadata": {},
     "output_type": "execute_result"
    }
   ],
   "source": [
    "math.sin(3.14/6)"
   ]
  },
  {
   "cell_type": "code",
   "execution_count": 95,
   "metadata": {},
   "outputs": [
    {
     "data": {
      "text/plain": [
       "2"
      ]
     },
     "execution_count": 95,
     "metadata": {},
     "output_type": "execute_result"
    }
   ],
   "source": [
    "round(2.3)"
   ]
  },
  {
   "cell_type": "markdown",
   "metadata": {},
   "source": [
    "# 3. Logical operators\n"
   ]
  },
  {
   "cell_type": "code",
   "execution_count": 121,
   "metadata": {},
   "outputs": [
    {
     "data": {
      "text/plain": [
       "(1, True, False, 1, False, False)"
      ]
     },
     "execution_count": 121,
     "metadata": {},
     "output_type": "execute_result"
    }
   ],
   "source": [
    "w,v,o = True,False,1\n",
    "w and o, w or v, w and not o, v or o, v and o, o!=True\n",
    "\n"
   ]
  },
  {
   "cell_type": "code",
   "execution_count": 122,
   "metadata": {},
   "outputs": [
    {
     "data": {
      "text/plain": [
       "(False, True, False)"
      ]
     },
     "execution_count": 122,
     "metadata": {},
     "output_type": "execute_result"
    }
   ],
   "source": [
    "True & False , True | False, not True"
   ]
  },
  {
   "cell_type": "markdown",
   "metadata": {},
   "source": [
    "# 4. if else "
   ]
  },
  {
   "cell_type": "code",
   "execution_count": 127,
   "metadata": {},
   "outputs": [
    {
     "name": "stdout",
     "output_type": "stream",
     "text": [
      "enter a number: -5\n",
      "-5 is negative\n"
     ]
    }
   ],
   "source": [
    "num = int(input(\"enter a number: \"))\n",
    "\n",
    "if(num > 0):\n",
    "    print(num, \" is positive\")\n",
    "elif(num == 0):\n",
    "    print(num, \"is zero\")\n",
    "else:\n",
    "    print(num, \"is negative\")"
   ]
  },
  {
   "cell_type": "markdown",
   "metadata": {},
   "source": [
    "# 5. for loop\n"
   ]
  },
  {
   "cell_type": "code",
   "execution_count": 132,
   "metadata": {},
   "outputs": [],
   "source": [
    "fruits = [\"mango\", \"orange\", \"grape\", \"papaya\", \"apricot\", \"watermelon\"]"
   ]
  },
  {
   "cell_type": "code",
   "execution_count": 133,
   "metadata": {},
   "outputs": [
    {
     "name": "stdout",
     "output_type": "stream",
     "text": [
      "5\n"
     ]
    }
   ],
   "source": [
    "print(len(fruits[0]))"
   ]
  },
  {
   "cell_type": "code",
   "execution_count": 146,
   "metadata": {},
   "outputs": [
    {
     "name": "stdout",
     "output_type": "stream",
     "text": [
      "mango : 5\n",
      "orange : 6\n",
      "grape : 5\n",
      "papaya : 6\n",
      "apricot : 7\n",
      "watermelon : 10\n"
     ]
    }
   ],
   "source": [
    "for i in range(6):\n",
    "    print(\"{}\".format(fruits[i]), \":\", len(fruits[i]))"
   ]
  },
  {
   "cell_type": "code",
   "execution_count": 147,
   "metadata": {},
   "outputs": [
    {
     "name": "stdout",
     "output_type": "stream",
     "text": [
      "1\n",
      "3\n",
      "5\n",
      "7\n",
      "9\n"
     ]
    }
   ],
   "source": [
    "for i in range(1,10,2):  # range(start index, end index, jump)\n",
    "    print(i)"
   ]
  },
  {
   "cell_type": "code",
   "execution_count": 149,
   "metadata": {},
   "outputs": [
    {
     "name": "stdout",
     "output_type": "stream",
     "text": [
      "*\n",
      "**\n",
      "***\n",
      "****\n",
      "*****\n",
      "****\n",
      "***\n",
      "**\n",
      "*\n"
     ]
    }
   ],
   "source": [
    "# star pattern\n",
    "str1 = \"\"\n",
    "for i in range(0,9):\n",
    "    if i<5:\n",
    "        str1 +=\"*\"\n",
    "        print(str1)\n",
    "    elif i>4:\n",
    "        str1 = str1[:-1]\n",
    "        print(str1)\n",
    "        "
   ]
  },
  {
   "cell_type": "code",
   "execution_count": 154,
   "metadata": {},
   "outputs": [
    {
     "name": "stdout",
     "output_type": "stream",
     "text": [
      "(0, 's')\n",
      "(1, 'h')\n",
      "(2, 'a')\n",
      "(3, 'l')\n",
      "(4, 'e')\n",
      "(5, 'e')\n",
      "(6, 'n')\n",
      "(7, ' ')\n",
      "(8, 'g')\n",
      "(9, 'o')\n",
      "(10, 'v')\n",
      "(11, 'i')\n",
      "(12, 'l')\n"
     ]
    }
   ],
   "source": [
    "str2 = \"shaleen govil\"\n",
    "for char in enumerate(str2):\n",
    "    print(char)"
   ]
  },
  {
   "cell_type": "markdown",
   "metadata": {},
   "source": [
    "# 6. Functions\n"
   ]
  },
  {
   "cell_type": "code",
   "execution_count": 178,
   "metadata": {},
   "outputs": [],
   "source": [
    "def cube(n):\n",
    "    \"\"\"function to cube a    \n",
    "    number\"\"\"\n",
    "    out = n** 3\n",
    "    return out"
   ]
  },
  {
   "cell_type": "code",
   "execution_count": 172,
   "metadata": {},
   "outputs": [
    {
     "name": "stdout",
     "output_type": "stream",
     "text": [
      "32.76800000000001\n"
     ]
    }
   ],
   "source": [
    "print(cube(3.2))"
   ]
  },
  {
   "cell_type": "code",
   "execution_count": 179,
   "metadata": {},
   "outputs": [
    {
     "name": "stdout",
     "output_type": "stream",
     "text": [
      "function to cube a\n",
      "    number\n"
     ]
    }
   ],
   "source": [
    "print(cube.__doc__) # to print the ddocumentation of (if given), none otherwise"
   ]
  },
  {
   "cell_type": "code",
   "execution_count": 158,
   "metadata": {},
   "outputs": [],
   "source": [
    "# not sure how many arguments to pass, use *args\n",
    "def func(*args):  \n",
    "    print(args)\n",
    "    print(sum(args))"
   ]
  },
  {
   "cell_type": "code",
   "execution_count": 159,
   "metadata": {},
   "outputs": [
    {
     "name": "stdout",
     "output_type": "stream",
     "text": [
      "(4, 6, 8)\n",
      "18\n"
     ]
    }
   ],
   "source": [
    "func(4,6,8)"
   ]
  },
  {
   "cell_type": "markdown",
   "metadata": {},
   "source": [
    "### Lambda functions\n",
    "They are the anonymous functions, sort of inline functions"
   ]
  },
  {
   "cell_type": "code",
   "execution_count": 185,
   "metadata": {},
   "outputs": [
    {
     "name": "stdout",
     "output_type": "stream",
     "text": [
      "['Shaleen', 'ji', 'govil']\n",
      "<class 'function'>\n"
     ]
    }
   ],
   "source": [
    "name = \"Shaleen ji govil\"\n",
    "string_to_list = lambda x: x.split() \n",
    "print(string_to_list(name))\n",
    "print(type(string_to_list))"
   ]
  },
  {
   "cell_type": "code",
   "execution_count": 168,
   "metadata": {},
   "outputs": [
    {
     "name": "stdout",
     "output_type": "stream",
     "text": [
      "15 7\n"
     ]
    }
   ],
   "source": [
    "multiply,add = lambda x,y: x*y, lambda x:x+2\n",
    "print(multiply(3,5),add(5))"
   ]
  },
  {
   "cell_type": "code",
   "execution_count": 187,
   "metadata": {},
   "outputs": [
    {
     "name": "stdout",
     "output_type": "stream",
     "text": [
      "None\n"
     ]
    }
   ],
   "source": [
    "print(multiply.__doc__) # I think we can't give documentation to lambda functions"
   ]
  },
  {
   "cell_type": "markdown",
   "metadata": {},
   "source": [
    "# 7. Strings"
   ]
  },
  {
   "cell_type": "code",
   "execution_count": 225,
   "metadata": {},
   "outputs": [
    {
     "name": "stdout",
     "output_type": "stream",
     "text": [
      "SHALEEN GOVIL\n",
      "shaleen govil\n",
      "Shaleen Govil\n"
     ]
    }
   ],
   "source": [
    "lowercase = \"shaleen\"\n",
    "uppercase = \"SHALEEN\"\n",
    "mixcase = \"GoViL\"\n",
    "print(lowercase.upper(), mixcase.upper())\n",
    "print(uppercase.lower(),mixcase.lower())\n",
    "print(lowercase.capitalize(),mixcase.capitalize()) #sort of punctuates => only first letter(of string not sentence) capital rest small."
   ]
  },
  {
   "cell_type": "markdown",
   "metadata": {},
   "source": [
    "### Stripping strings\n",
    "Right strip and left strip"
   ]
  },
  {
   "cell_type": "code",
   "execution_count": 192,
   "metadata": {},
   "outputs": [
    {
     "name": "stdout",
     "output_type": "stream",
     "text": [
      "yo\n"
     ]
    }
   ],
   "source": [
    "strip1 = \"##yo**\"\n",
    "print(strip1.rstrip(\"*\").lstrip(\"#\"))"
   ]
  },
  {
   "cell_type": "markdown",
   "metadata": {},
   "source": [
    "### Slicing of string"
   ]
  },
  {
   "cell_type": "code",
   "execution_count": 202,
   "metadata": {},
   "outputs": [
    {
     "name": "stdout",
     "output_type": "stream",
     "text": [
      "4\n",
      "4 apples\n",
      "no. of apples- 4\n"
     ]
    }
   ],
   "source": [
    "val = \"4 apples\"\n",
    "print(val[0])\n",
    "print(val[:]) # slice a:b => string[a] to string[a-1], by default a = 0 and b = length of string\n",
    "print(\"no. of apples- \" + str(val[:1]))"
   ]
  },
  {
   "cell_type": "code",
   "execution_count": 212,
   "metadata": {},
   "outputs": [
    {
     "data": {
      "text/plain": [
       "'4 @pples'"
      ]
     },
     "execution_count": 212,
     "metadata": {},
     "output_type": "execute_result"
    }
   ],
   "source": [
    "val.replace(\"a\",\"@\") # replace a character\n"
   ]
  },
  {
   "cell_type": "markdown",
   "metadata": {},
   "source": [
    "<p>4    @  p  p  l  e s </p>\n",
    "<p>0 1  2  3  4  5  6 7  </p>\n",
    "<p>-8...............-2-1 </p>"
   ]
  },
  {
   "cell_type": "code",
   "execution_count": 217,
   "metadata": {},
   "outputs": [
    {
     "name": "stdout",
     "output_type": "stream",
     "text": [
      "pple\n",
      "4 apples\n",
      "4ape\n"
     ]
    }
   ],
   "source": [
    "print(val[3:-1])\n",
    "print(val[-8:])\n",
    "\n",
    "print(val[0::2]) #a::b => a is start index, b is jump"
   ]
  },
  {
   "cell_type": "code",
   "execution_count": 226,
   "metadata": {},
   "outputs": [
    {
     "name": "stdout",
     "output_type": "stream",
     "text": [
      "I am 6ft tall and weighs 70 kg\n"
     ]
    }
   ],
   "source": [
    "height = \"6ft\"\n",
    "weight = 70\n",
    "print(\"I am {} tall and weighs {} kg\".format(height,weight))"
   ]
  },
  {
   "cell_type": "code",
   "execution_count": 231,
   "metadata": {},
   "outputs": [
    {
     "data": {
      "text/plain": [
       "True"
      ]
     },
     "execution_count": 231,
     "metadata": {},
     "output_type": "execute_result"
    }
   ],
   "source": [
    "stringX = \"govil\"\n",
    "stringY = \"go\"\n",
    "stringY in stringX  # true if stringY is contained in stringX"
   ]
  },
  {
   "cell_type": "markdown",
   "metadata": {},
   "source": [
    "# 8. Lists - []\n",
    "\n",
    "Similar to string, used for analysis of string"
   ]
  },
  {
   "cell_type": "code",
   "execution_count": 1,
   "metadata": {},
   "outputs": [
    {
     "name": "stdout",
     "output_type": "stream",
     "text": [
      "[]\n"
     ]
    }
   ],
   "source": [
    "a = []\n",
    "print(a)"
   ]
  },
  {
   "cell_type": "code",
   "execution_count": 6,
   "metadata": {},
   "outputs": [
    {
     "name": "stdout",
     "output_type": "stream",
     "text": [
      "['java', 'python', 'C++', 'Ruby', 'Perl', 32]\n",
      "python Perl\n",
      "['python', 'C++', 'Ruby']\n"
     ]
    }
   ],
   "source": [
    "languages = [\"java\", \"python\", \"C++\", \"Ruby\", \"Perl\", 32 ] #hetrogeneous elements\n",
    "print(languages)\n",
    "print(languages[1], languages[-2]) #access like array\n",
    "print(languages[1:4]) #slicing OP"
   ]
  },
  {
   "cell_type": "code",
   "execution_count": 18,
   "metadata": {},
   "outputs": [
    {
     "name": "stdout",
     "output_type": "stream",
     "text": [
      "['java', 'python', 'C++', 'Ruby', 'Perl', 32, 'basic']\n"
     ]
    }
   ],
   "source": [
    "languages.append(\"basic\")  # add at last\n",
    "print(languages)\n"
   ]
  },
  {
   "cell_type": "code",
   "execution_count": 19,
   "metadata": {},
   "outputs": [
    {
     "name": "stdout",
     "output_type": "stream",
     "text": [
      "['java', 'python', 'C++', 'Ruby', 'Perl', 32]\n"
     ]
    }
   ],
   "source": [
    "languages.pop() # remove from last\n",
    "print(languages)"
   ]
  },
  {
   "cell_type": "code",
   "execution_count": 20,
   "metadata": {},
   "outputs": [
    {
     "name": "stdout",
     "output_type": "stream",
     "text": [
      "['java', 'python', 'C++', 'Ruby', 'Perl']\n"
     ]
    }
   ],
   "source": [
    "languages.remove(32) # remove a specific element\n",
    "print(languages)"
   ]
  },
  {
   "cell_type": "code",
   "execution_count": 21,
   "metadata": {},
   "outputs": [
    {
     "name": "stdout",
     "output_type": "stream",
     "text": [
      "['java', 'python', 'C++', 'Perl']\n"
     ]
    }
   ],
   "source": [
    "languages.pop(3) # pop a particular index\n",
    "print(languages)"
   ]
  },
  {
   "cell_type": "code",
   "execution_count": 23,
   "metadata": {},
   "outputs": [
    {
     "name": "stdout",
     "output_type": "stream",
     "text": [
      "['java', 'python', 'C++', 'Perl', 'swift']\n"
     ]
    }
   ],
   "source": [
    "new_list = languages \n",
    "new_list.append(\"swift\") # appended in new_list\n",
    "print(languages)  # change occured in languages = > new_list and languages are not independent and point to same memory loc"
   ]
  },
  {
   "cell_type": "code",
   "execution_count": 25,
   "metadata": {},
   "outputs": [
    {
     "name": "stdout",
     "output_type": "stream",
     "text": [
      "2381146845952\n",
      "2381146845952\n"
     ]
    }
   ],
   "source": [
    "print(id(new_list)) \n",
    "print(id(languages))"
   ]
  },
  {
   "cell_type": "code",
   "execution_count": 38,
   "metadata": {},
   "outputs": [
    {
     "name": "stdout",
     "output_type": "stream",
     "text": [
      "2381146845440\n",
      "['java', 'python', 'C++', 'Perl', 'swift', 'brainfuck']\n",
      "['java', 'python', 'C++', 'Perl', 'swift']\n"
     ]
    }
   ],
   "source": [
    "new_list1 = new_list[:] # to avoid making same memory reference , we do like this\n",
    "print(id(new_list1))\n",
    "new_list1.append(\"brainfuck\")  # only new_lis1 got modified\n",
    "print(new_list1)\n",
    "print(new_list) # no change as different reference are created"
   ]
  },
  {
   "cell_type": "code",
   "execution_count": 41,
   "metadata": {},
   "outputs": [
    {
     "name": "stdout",
     "output_type": "stream",
     "text": [
      "2381147013888\n",
      "['java', 'python', 'C++', 'Perl', 'swift', 'whitespace']\n",
      "['java', 'python', 'C++', 'Perl', 'swift']\n",
      "['java', 'python', 'C++', 'Perl', 'swift', 'brainfuck']\n"
     ]
    }
   ],
   "source": [
    "new_list2 = new_list.copy() # can also do like this\n",
    "print(id(new_list2))\n",
    "new_list2.append(\"whitespace\")\n",
    "print(new_list2)\n",
    "print(new_list)\n",
    "print(new_list1)"
   ]
  },
  {
   "cell_type": "code",
   "execution_count": 45,
   "metadata": {},
   "outputs": [
    {
     "name": "stdout",
     "output_type": "stream",
     "text": [
      "['Hi', 'Shaleen,', 'how', 'are', 'you?,', 'Happy', 'as', 'always,', 'sir!']\n",
      "<class 'list'>\n"
     ]
    }
   ],
   "source": [
    "mail = \"Hi Shaleen, how are you?, Happy as always, sir!\"\n",
    "words = mail.split()\n",
    "print(words)\n",
    "print(type(words))"
   ]
  },
  {
   "cell_type": "code",
   "execution_count": 47,
   "metadata": {},
   "outputs": [
    {
     "data": {
      "text/plain": [
       "['Hi Shaleen', ' how are you?', ' Happy as always', ' sir!']"
      ]
     },
     "execution_count": 47,
     "metadata": {},
     "output_type": "execute_result"
    }
   ],
   "source": [
    "words2 = mail.split(\",\") # separates after encountering a delimiter - \",\"\n",
    "words2"
   ]
  },
  {
   "cell_type": "code",
   "execution_count": 52,
   "metadata": {},
   "outputs": [
    {
     "data": {
      "text/plain": [
       "('Hi Shaleen  how are you?  Happy as always  sir!',\n",
       " 'Hi Shaleen, how are you?, Happy as always, sir!')"
      ]
     },
     "execution_count": 52,
     "metadata": {},
     "output_type": "execute_result"
    }
   ],
   "source": [
    "sentences1 = \" \".join(words2)\n",
    "sentences2 = \",\".join(words2) # joins using a demlimiter - \",\"\n",
    "sentences1, sentences2"
   ]
  },
  {
   "cell_type": "code",
   "execution_count": 59,
   "metadata": {},
   "outputs": [
    {
     "name": "stdout",
     "output_type": "stream",
     "text": [
      "['govil', 'govil', 'govil', 'govil', 'govil']\n",
      "['govil', 'govil']\n"
     ]
    }
   ],
   "source": [
    "name = [\"govil\"]\n",
    "print(name*5)\n",
    "print(name + name)"
   ]
  },
  {
   "cell_type": "code",
   "execution_count": 61,
   "metadata": {},
   "outputs": [
    {
     "data": {
      "text/plain": [
       "(9, 1)"
      ]
     },
     "execution_count": 61,
     "metadata": {},
     "output_type": "execute_result"
    }
   ],
   "source": [
    "nums = [1,3,5,6,3,7,9]\n",
    "max(nums), min( nums)"
   ]
  },
  {
   "cell_type": "code",
   "execution_count": 62,
   "metadata": {},
   "outputs": [
    {
     "data": {
      "text/plain": [
       "[1, 3, 3, 5, 6, 7, 9]"
      ]
     },
     "execution_count": 62,
     "metadata": {},
     "output_type": "execute_result"
    }
   ],
   "source": [
    "sorted(nums)"
   ]
  },
  {
   "cell_type": "markdown",
   "metadata": {},
   "source": [
    "### nested list"
   ]
  },
  {
   "cell_type": "code",
   "execution_count": 65,
   "metadata": {},
   "outputs": [
    {
     "name": "stdout",
     "output_type": "stream",
     "text": [
      "[4, 5, 6]\n",
      "3\n"
     ]
    }
   ],
   "source": [
    "n = [[1,2,3],[4,5,6],[7,8,9]]\n",
    "print(n[1])\n",
    "print(n[0][2])"
   ]
  },
  {
   "cell_type": "markdown",
   "metadata": {},
   "source": [
    "# 9. Tupples - ()\n",
    "Similar to list but once created they cannot be modified"
   ]
  },
  {
   "cell_type": "code",
   "execution_count": 66,
   "metadata": {},
   "outputs": [
    {
     "name": "stdout",
     "output_type": "stream",
     "text": [
      "<class 'tuple'>\n",
      "shaleen\n"
     ]
    }
   ],
   "source": [
    "bmi = (\"shaleen\", 70, 5.8)\n",
    "print(type(bmi))\n",
    "print(bmi[0])"
   ]
  },
  {
   "cell_type": "code",
   "execution_count": 67,
   "metadata": {},
   "outputs": [
    {
     "name": "stdout",
     "output_type": "stream",
     "text": [
      "(70, 5.8)\n"
     ]
    }
   ],
   "source": [
    "print(bmi[1:3])"
   ]
  },
  {
   "cell_type": "code",
   "execution_count": 68,
   "metadata": {},
   "outputs": [
    {
     "ename": "TypeError",
     "evalue": "'tuple' object does not support item assignment",
     "output_type": "error",
     "traceback": [
      "\u001b[1;31m---------------------------------------------------------------------------\u001b[0m",
      "\u001b[1;31mTypeError\u001b[0m                                 Traceback (most recent call last)",
      "\u001b[1;32m<ipython-input-68-c4cb8bc2a763>\u001b[0m in \u001b[0;36m<module>\u001b[1;34m\u001b[0m\n\u001b[1;32m----> 1\u001b[1;33m \u001b[0mbmi\u001b[0m\u001b[1;33m[\u001b[0m\u001b[1;36m1\u001b[0m\u001b[1;33m]\u001b[0m \u001b[1;33m=\u001b[0m \u001b[1;36m50\u001b[0m\u001b[1;33m\u001b[0m\u001b[1;33m\u001b[0m\u001b[0m\n\u001b[0m",
      "\u001b[1;31mTypeError\u001b[0m: 'tuple' object does not support item assignment"
     ]
    }
   ],
   "source": [
    "bmi[1] = 50 #tuple' object does not support item assignment\n"
   ]
  },
  {
   "cell_type": "code",
   "execution_count": 71,
   "metadata": {},
   "outputs": [
    {
     "name": "stdout",
     "output_type": "stream",
     "text": [
      "('shaleen', 70, 5.8) <class 'tuple'> 2381145795584 2381145795584\n"
     ]
    }
   ],
   "source": [
    "bmi2 = bmi\n",
    "print(bmi2, type(bmi2), id(bmi2), id(bmi))"
   ]
  },
  {
   "cell_type": "code",
   "execution_count": 72,
   "metadata": {},
   "outputs": [
    {
     "ename": "AttributeError",
     "evalue": "'tuple' object has no attribute 'append'",
     "output_type": "error",
     "traceback": [
      "\u001b[1;31m---------------------------------------------------------------------------\u001b[0m",
      "\u001b[1;31mAttributeError\u001b[0m                            Traceback (most recent call last)",
      "\u001b[1;32m<ipython-input-72-74ff75583bdc>\u001b[0m in \u001b[0;36m<module>\u001b[1;34m\u001b[0m\n\u001b[1;32m----> 1\u001b[1;33m \u001b[0mbmi2\u001b[0m\u001b[1;33m.\u001b[0m\u001b[0mappend\u001b[0m\u001b[1;33m(\u001b[0m\u001b[1;34m\"yo\"\u001b[0m\u001b[1;33m)\u001b[0m\u001b[1;33m\u001b[0m\u001b[1;33m\u001b[0m\u001b[0m\n\u001b[0m",
      "\u001b[1;31mAttributeError\u001b[0m: 'tuple' object has no attribute 'append'"
     ]
    }
   ],
   "source": [
    "bmi2.append(\"yo\") # can't modify is a serious shit"
   ]
  },
  {
   "cell_type": "code",
   "execution_count": 74,
   "metadata": {},
   "outputs": [
    {
     "data": {
      "text/plain": [
       "tuple"
      ]
     },
     "execution_count": 74,
     "metadata": {},
     "output_type": "execute_result"
    }
   ],
   "source": [
    "bmi_nan = \"nandini\", 50, 5.5  # no need of brackets in tupple\n",
    "type(bmi_nan)"
   ]
  },
  {
   "cell_type": "code",
   "execution_count": 75,
   "metadata": {},
   "outputs": [
    {
     "name": "stdout",
     "output_type": "stream",
     "text": [
      "(('shaleen', 70, 5.8), ('nandini', 50, 5.5))\n"
     ]
    }
   ],
   "source": [
    "bmi_both = bmi, bmi_nan\n",
    "print(bmi_both) # tupple of tupple"
   ]
  },
  {
   "cell_type": "code",
   "execution_count": 78,
   "metadata": {},
   "outputs": [
    {
     "data": {
      "text/plain": [
       "(tuple, tuple)"
      ]
     },
     "execution_count": 78,
     "metadata": {},
     "output_type": "execute_result"
    }
   ],
   "source": [
    "type(bmi_both), type(bmi_nan)"
   ]
  },
  {
   "cell_type": "code",
   "execution_count": 80,
   "metadata": {},
   "outputs": [
    {
     "name": "stdout",
     "output_type": "stream",
     "text": [
      "2\n",
      "5.5\n"
     ]
    }
   ],
   "source": [
    "print(len(bmi_both))\n",
    "print(bmi_both[1][2])"
   ]
  },
  {
   "cell_type": "code",
   "execution_count": 84,
   "metadata": {},
   "outputs": [
    {
     "name": "stdout",
     "output_type": "stream",
     "text": [
      "['nandini', 50, 5.3]\n"
     ]
    }
   ],
   "source": [
    "bmi_nan_list = list(bmi_nan) # tupple to list, smly we can do list to tupple\n",
    "bmi_nan_list[2] = 5.3\n",
    "print(bmi_nan_list)"
   ]
  },
  {
   "cell_type": "code",
   "execution_count": 88,
   "metadata": {},
   "outputs": [
    {
     "name": "stdout",
     "output_type": "stream",
     "text": [
      "(['shaleen', 70, 5.8], ['nandini', 50, 5.3])\n"
     ]
    }
   ],
   "source": [
    "bmi_list = list(bmi)\n",
    "bmi_both = bmi_list, bmi_nan_list # tupple of list\n",
    "print(bmi_both)"
   ]
  },
  {
   "cell_type": "code",
   "execution_count": 89,
   "metadata": {},
   "outputs": [
    {
     "ename": "TypeError",
     "evalue": "'tuple' object does not support item assignment",
     "output_type": "error",
     "traceback": [
      "\u001b[1;31m---------------------------------------------------------------------------\u001b[0m",
      "\u001b[1;31mTypeError\u001b[0m                                 Traceback (most recent call last)",
      "\u001b[1;32m<ipython-input-89-7748606f8390>\u001b[0m in \u001b[0;36m<module>\u001b[1;34m\u001b[0m\n\u001b[1;32m----> 1\u001b[1;33m \u001b[0mbmi_both\u001b[0m\u001b[1;33m[\u001b[0m\u001b[1;36m0\u001b[0m\u001b[1;33m]\u001b[0m \u001b[1;33m=\u001b[0m \u001b[1;33m[\u001b[0m\u001b[1;34m\"stop\"\u001b[0m\u001b[1;33m,\u001b[0m \u001b[1;34m\"testing\"\u001b[0m\u001b[1;33m,\u001b[0m \u001b[1;34m\"me\"\u001b[0m\u001b[1;33m]\u001b[0m\u001b[1;33m\u001b[0m\u001b[1;33m\u001b[0m\u001b[0m\n\u001b[0m",
      "\u001b[1;31mTypeError\u001b[0m: 'tuple' object does not support item assignment"
     ]
    }
   ],
   "source": [
    "bmi_both[0] = [\"stop\", \"testing\", \"me\"]  # told ya"
   ]
  },
  {
   "cell_type": "code",
   "execution_count": 90,
   "metadata": {},
   "outputs": [
    {
     "name": "stdout",
     "output_type": "stream",
     "text": [
      "(['shaleen', 75, 5.8], ['nandini', 50, 5.3])\n"
     ]
    }
   ],
   "source": [
    "bmi_both[0][1]  = 75 # coz list can be modified\n",
    "print(bmi_both)"
   ]
  },
  {
   "cell_type": "markdown",
   "metadata": {},
   "source": [
    "# 10. Sets {}\n",
    "contains unique elements only in sorted fashion"
   ]
  },
  {
   "cell_type": "code",
   "execution_count": 92,
   "metadata": {},
   "outputs": [
    {
     "name": "stdout",
     "output_type": "stream",
     "text": [
      "{'B', 'O', 'B+', 'A+'}\n",
      "{'A', 'O', 'B+', 'A+'}\n"
     ]
    }
   ],
   "source": [
    "Aru_grades = [\"O\",\"A+\",\"O\",\"A\",\"B+\"]\n",
    "mannu_grades = [\"A+\",\"B\",\"B+\",\"O\",\"O\"]\n",
    "Aru_grades = set(Aru_grades)\n",
    "mannu_grades = set(mannu_grades)\n",
    "print(mannu_grades)\n",
    "print(Aru_grades)"
   ]
  },
  {
   "cell_type": "code",
   "execution_count": 93,
   "metadata": {},
   "outputs": [
    {
     "data": {
      "text/plain": [
       "{'A+', 'B+', 'O'}"
      ]
     },
     "execution_count": 93,
     "metadata": {},
     "output_type": "execute_result"
    }
   ],
   "source": [
    "mannu_grades.intersection(Aru_grades)"
   ]
  },
  {
   "cell_type": "code",
   "execution_count": 94,
   "metadata": {},
   "outputs": [
    {
     "data": {
      "text/plain": [
       "{'A', 'A+', 'B', 'B+', 'O'}"
      ]
     },
     "execution_count": 94,
     "metadata": {},
     "output_type": "execute_result"
    }
   ],
   "source": [
    "mannu_grades.union(Aru_grades)"
   ]
  },
  {
   "cell_type": "code",
   "execution_count": 96,
   "metadata": {},
   "outputs": [
    {
     "data": {
      "text/plain": [
       "{'B'}"
      ]
     },
     "execution_count": 96,
     "metadata": {},
     "output_type": "execute_result"
    }
   ],
   "source": [
    "mannu_grades.difference(Aru_grades)"
   ]
  },
  {
   "cell_type": "code",
   "execution_count": 99,
   "metadata": {},
   "outputs": [
    {
     "data": {
      "text/plain": [
       "False"
      ]
     },
     "execution_count": 99,
     "metadata": {},
     "output_type": "execute_result"
    }
   ],
   "source": [
    "\"F\" in Aru_grades"
   ]
  },
  {
   "cell_type": "code",
   "execution_count": 112,
   "metadata": {},
   "outputs": [
    {
     "name": "stdout",
     "output_type": "stream",
     "text": [
      "{'B+', 'A+', 'F', 'A', 'O'}\n"
     ]
    }
   ],
   "source": [
    "Aru_grades.add(\"F\") \n",
    "print(Aru_grades)"
   ]
  },
  {
   "cell_type": "code",
   "execution_count": 113,
   "metadata": {},
   "outputs": [
    {
     "name": "stdout",
     "output_type": "stream",
     "text": [
      "{'B+', 'A+', 'A', 'O'}\n"
     ]
    }
   ],
   "source": [
    "Aru_grades.remove(\"F\")\n",
    "print(Aru_grades)"
   ]
  },
  {
   "cell_type": "code",
   "execution_count": 108,
   "metadata": {},
   "outputs": [
    {
     "name": "stdout",
     "output_type": "stream",
     "text": [
      "B\n",
      "O\n",
      "B+\n",
      "A+\n"
     ]
    }
   ],
   "source": [
    "for i in mannu_grades:\n",
    "    print(i)\n"
   ]
  },
  {
   "cell_type": "code",
   "execution_count": 109,
   "metadata": {},
   "outputs": [
    {
     "data": {
      "text/plain": [
       "False"
      ]
     },
     "execution_count": 109,
     "metadata": {},
     "output_type": "execute_result"
    }
   ],
   "source": [
    "Aru_grades.issubset(mannu_grades)"
   ]
  },
  {
   "cell_type": "code",
   "execution_count": 114,
   "metadata": {},
   "outputs": [
    {
     "data": {
      "text/plain": [
       "True"
      ]
     },
     "execution_count": 114,
     "metadata": {},
     "output_type": "execute_result"
    }
   ],
   "source": [
    "Aru_grades.remove(\"A\")\n",
    "Aru_grades.issubset(mannu_grades)"
   ]
  },
  {
   "cell_type": "code",
   "execution_count": 117,
   "metadata": {},
   "outputs": [
    {
     "data": {
      "text/plain": [
       "{'A', 'B'}"
      ]
     },
     "execution_count": 117,
     "metadata": {},
     "output_type": "execute_result"
    }
   ],
   "source": [
    "Aru_grades.add(\"A\")\n",
    "Aru_grades.symmetric_difference(mannu_grades) # A 🔼 B = (A-B) U (B-A)"
   ]
  },
  {
   "cell_type": "markdown",
   "metadata": {},
   "source": [
    "# 11. Dictionaries\n",
    "stores Key-value pair"
   ]
  },
  {
   "cell_type": "code",
   "execution_count": 118,
   "metadata": {},
   "outputs": [
    {
     "name": "stdout",
     "output_type": "stream",
     "text": [
      "{1, 3, 4, 5, 6, 73}\n"
     ]
    }
   ],
   "source": [
    "numbers = {1,3,4,5,6,73,3} # this is set\n",
    "print(numbers)"
   ]
  },
  {
   "cell_type": "code",
   "execution_count": 119,
   "metadata": {},
   "outputs": [
    {
     "data": {
      "text/plain": [
       "set"
      ]
     },
     "execution_count": 119,
     "metadata": {},
     "output_type": "execute_result"
    }
   ],
   "source": [
    "type(numbers) # as evident from here"
   ]
  },
  {
   "cell_type": "code",
   "execution_count": 121,
   "metadata": {},
   "outputs": [
    {
     "data": {
      "text/plain": [
       "dict"
      ]
     },
     "execution_count": 121,
     "metadata": {},
     "output_type": "execute_result"
    }
   ],
   "source": [
    "no = {} # empty set => dictionary\n",
    "type(no)"
   ]
  },
  {
   "cell_type": "code",
   "execution_count": 122,
   "metadata": {},
   "outputs": [],
   "source": [
    "d = {\"actor\":\"akshay\", \"animal\":\"dog\",\"planet\":\"earth\",\"list\":[3,4,5]}\n"
   ]
  },
  {
   "cell_type": "code",
   "execution_count": 124,
   "metadata": {},
   "outputs": [
    {
     "name": "stdout",
     "output_type": "stream",
     "text": [
      "akshay [3, 4, 5]\n"
     ]
    }
   ],
   "source": [
    "print(d[\"actor\"], d[\"list\"])   # accessing values"
   ]
  },
  {
   "cell_type": "code",
   "execution_count": 125,
   "metadata": {},
   "outputs": [
    {
     "data": {
      "text/plain": [
       "'earth'"
      ]
     },
     "execution_count": 125,
     "metadata": {},
     "output_type": "execute_result"
    }
   ],
   "source": [
    "d.get(\"planet\")  # accessing value aliter"
   ]
  },
  {
   "cell_type": "code",
   "execution_count": 130,
   "metadata": {},
   "outputs": [
    {
     "name": "stdout",
     "output_type": "stream",
     "text": [
      "None\n"
     ]
    }
   ],
   "source": [
    "print(d.get(\"profession\"))"
   ]
  },
  {
   "cell_type": "code",
   "execution_count": 131,
   "metadata": {},
   "outputs": [
    {
     "name": "stdout",
     "output_type": "stream",
     "text": [
      "{'actor': 'akshay', 'animal': 'dog', 'planet': 'earth', 'list': [3, 4, 5], 'profession': 'teacher'}\n"
     ]
    }
   ],
   "source": [
    "d[\"profession\"] = \"teacher\"\n",
    "print(d)"
   ]
  },
  {
   "cell_type": "code",
   "execution_count": 133,
   "metadata": {},
   "outputs": [
    {
     "name": "stdout",
     "output_type": "stream",
     "text": [
      "['actor', 'animal', 'planet', 'list', 'profession']\n",
      "['akshay', 'dog', 'earth', [3, 4, 5], 'teacher']\n"
     ]
    }
   ],
   "source": [
    "print(list(d.keys()))\n",
    "print(list(d.values()))"
   ]
  },
  {
   "cell_type": "code",
   "execution_count": 134,
   "metadata": {},
   "outputs": [],
   "source": [
    "new = dict(singer = \"honey singh\", songs = [\"love dose\",\"blue eyes\"])"
   ]
  },
  {
   "cell_type": "code",
   "execution_count": 136,
   "metadata": {},
   "outputs": [
    {
     "name": "stdout",
     "output_type": "stream",
     "text": [
      "{'actor': 'akshay', 'animal': 'dog', 'planet': 'earth', 'list': [3, 4, 5], 'profession': 'teacher', 'singer': 'honey singh', 'songs': ['love dose', 'blue eyes']}\n"
     ]
    }
   ],
   "source": [
    "d.update(new)\n",
    "print(d)"
   ]
  },
  {
   "cell_type": "code",
   "execution_count": 151,
   "metadata": {},
   "outputs": [
    {
     "name": "stdout",
     "output_type": "stream",
     "text": [
      "['love dose', 'blue eyes']\n",
      "blue eyes\n"
     ]
    }
   ],
   "source": [
    "print(d[\"songs\"]) # gives value of key \"songs\"\n",
    "print(d[\"songs\"][1]) # manipulating value which is a list"
   ]
  },
  {
   "cell_type": "code",
   "execution_count": 153,
   "metadata": {},
   "outputs": [
    {
     "name": "stdout",
     "output_type": "stream",
     "text": [
      "['love dose', 'saiyaan ji']\n"
     ]
    }
   ],
   "source": [
    "d[\"songs\"][1] = \"saiyaan ji\" # updating list\n",
    "print(d[\"songs\"])"
   ]
  },
  {
   "cell_type": "code",
   "execution_count": 154,
   "metadata": {},
   "outputs": [
    {
     "name": "stdout",
     "output_type": "stream",
     "text": [
      "['love dose', 'saiyaan ji', 'yo yo']\n"
     ]
    }
   ],
   "source": [
    "d[\"songs\"].append(\"yo yo\")\n",
    "print(d[\"songs\"])"
   ]
  },
  {
   "cell_type": "code",
   "execution_count": 144,
   "metadata": {},
   "outputs": [],
   "source": [
    "del d[\"singer\"] # deleting a key will remove that key-value pair"
   ]
  },
  {
   "cell_type": "code",
   "execution_count": 145,
   "metadata": {},
   "outputs": [
    {
     "name": "stdout",
     "output_type": "stream",
     "text": [
      "{'actor': 'akshay', 'animal': 'dog', 'planet': 'earth', 'list': [3, 4, 5], 'profession': 'teacher', 'songs': ['love dose', 'blue eyes']}\n"
     ]
    }
   ],
   "source": [
    "print(d)"
   ]
  },
  {
   "cell_type": "code",
   "execution_count": 146,
   "metadata": {},
   "outputs": [
    {
     "name": "stdout",
     "output_type": "stream",
     "text": [
      "6\n"
     ]
    }
   ],
   "source": [
    "print(len(d)) # no. of keys"
   ]
  },
  {
   "cell_type": "code",
   "execution_count": 158,
   "metadata": {},
   "outputs": [],
   "source": [
    "d[2] = (\"two\",\"II\")  # 2 is key not the index"
   ]
  },
  {
   "cell_type": "code",
   "execution_count": 159,
   "metadata": {},
   "outputs": [
    {
     "name": "stdout",
     "output_type": "stream",
     "text": [
      "{'actor': 'akshay', 'animal': 'dog', 'planet': 'earth', 'list': [3, 4, 5], 'profession': 'teacher', 'songs': ['love dose', 'saiyaan ji', 'yo yo'], 2: ('two', 'II')}\n"
     ]
    }
   ],
   "source": [
    "print(d)"
   ]
  },
  {
   "cell_type": "code",
   "execution_count": 160,
   "metadata": {},
   "outputs": [
    {
     "data": {
      "text/plain": [
       "('two', 'II')"
      ]
     },
     "execution_count": 160,
     "metadata": {},
     "output_type": "execute_result"
    }
   ],
   "source": [
    "d[2]"
   ]
  },
  {
   "cell_type": "code",
   "execution_count": 162,
   "metadata": {},
   "outputs": [
    {
     "data": {
      "text/plain": [
       "tuple"
      ]
     },
     "execution_count": 162,
     "metadata": {},
     "output_type": "execute_result"
    }
   ],
   "source": [
    "type(d[2])"
   ]
  },
  {
   "cell_type": "code",
   "execution_count": 164,
   "metadata": {},
   "outputs": [
    {
     "name": "stdout",
     "output_type": "stream",
     "text": [
      "{'actor': 'akshay', 'animal': 'dog', 'planet': 'earth', 'list': [3, 4, 5], 'profession': 'teacher', 'songs': ['love dose', 'saiyaan ji', 'yo yo'], 2: ('two', 'II'), 3: 'three,III'}\n"
     ]
    }
   ],
   "source": [
    "d[3] = \"three,III\"  # string not tupple\n",
    "print(d)"
   ]
  },
  {
   "cell_type": "code",
   "execution_count": 166,
   "metadata": {},
   "outputs": [
    {
     "name": "stdout",
     "output_type": "stream",
     "text": [
      "three,III\n",
      "<class 'str'>\n"
     ]
    }
   ],
   "source": [
    "print(d[3])\n",
    "print(type(d[3]))"
   ]
  },
  {
   "cell_type": "code",
   "execution_count": 167,
   "metadata": {},
   "outputs": [
    {
     "name": "stdout",
     "output_type": "stream",
     "text": [
      "actor : akshay\n",
      "animal : dog\n",
      "planet : earth\n",
      "list : [3, 4, 5]\n",
      "profession : teacher\n",
      "songs : ['love dose', 'saiyaan ji', 'yo yo']\n",
      "2 : ('two', 'II')\n",
      "3 : three,III\n"
     ]
    }
   ],
   "source": [
    "for a,b in d.items():\n",
    "    print(a,\":\",b)"
   ]
  },
  {
   "cell_type": "markdown",
   "metadata": {},
   "source": [
    "# 12. Comprehensions \n",
    "Optimized version of writing loops and using python data structures"
   ]
  },
  {
   "cell_type": "markdown",
   "metadata": {},
   "source": [
    "### Example-1"
   ]
  },
  {
   "cell_type": "code",
   "execution_count": 168,
   "metadata": {},
   "outputs": [
    {
     "name": "stdout",
     "output_type": "stream",
     "text": [
      "[1, 4, 9, 16, 25, 36, 49, 64, 81]\n"
     ]
    }
   ],
   "source": [
    "square_list1 = []\n",
    "for x in range(1,10):\n",
    "    square_list.append(x**2)\n",
    "print(square_list)"
   ]
  },
  {
   "cell_type": "code",
   "execution_count": 170,
   "metadata": {},
   "outputs": [
    {
     "name": "stdout",
     "output_type": "stream",
     "text": [
      "[1, 4, 9, 16, 25, 36, 49, 64, 81]\n"
     ]
    }
   ],
   "source": [
    "square_list2 = [x**2 for x in range(1,10)]\n",
    "print(square_list2)"
   ]
  },
  {
   "cell_type": "markdown",
   "metadata": {},
   "source": [
    "### Example-2"
   ]
  },
  {
   "cell_type": "code",
   "execution_count": 171,
   "metadata": {},
   "outputs": [
    {
     "name": "stdout",
     "output_type": "stream",
     "text": [
      "['Hello', 'Uncle', 'namaste', 'chalo', 'kaam', 'ki', 'baat', 'pe', 'aate', 'hain.']\n"
     ]
    }
   ],
   "source": [
    "para = [\"Hello Uncle namaste\", \"chalo kaam ki baat\", \"pe aate hain.\"]\n",
    "\n",
    "single_word_list1 = []\n",
    "for sen in para:\n",
    "    for word in sen.split():\n",
    "        single_word_list1.append(word)\n",
    "print(single_word_list1)"
   ]
  },
  {
   "cell_type": "code",
   "execution_count": 173,
   "metadata": {},
   "outputs": [
    {
     "name": "stdout",
     "output_type": "stream",
     "text": [
      "['Hello', 'Uncle', 'namaste', 'chalo', 'kaam', 'ki', 'baat', 'pe', 'aate', 'hain.']\n"
     ]
    }
   ],
   "source": [
    "single_word_list2 = [word for sen in para for word in sen.split()]\n",
    "print(single_word_list2)"
   ]
  },
  {
   "cell_type": "markdown",
   "metadata": {},
   "source": [
    "### Example-3"
   ]
  },
  {
   "cell_type": "code",
   "execution_count": 194,
   "metadata": {},
   "outputs": [
    {
     "name": "stdout",
     "output_type": "stream",
     "text": [
      "['Uncle', 'aate']\n"
     ]
    }
   ],
   "source": [
    "vowels = [\"a\",\"e\",\"i\",\"o\",\"u\"]\n",
    "vowels_from_para = []\n",
    "for sen in para:\n",
    "    for word in sen.split():\n",
    "        if word[0].lower() in vowels:\n",
    "            vowels_from_para.append(word)\n",
    "            \n",
    "print(vowels_from_para)"
   ]
  },
  {
   "cell_type": "code",
   "execution_count": 197,
   "metadata": {},
   "outputs": [
    {
     "name": "stdout",
     "output_type": "stream",
     "text": [
      "[]\n"
     ]
    }
   ],
   "source": [
    "vowels_words = [word for sen in para for word in sen.split() if word[0].lower in vowels]\n",
    "print(vowels_words)"
   ]
  },
  {
   "cell_type": "markdown",
   "metadata": {},
   "source": [
    "### Example-4"
   ]
  },
  {
   "cell_type": "code",
   "execution_count": 196,
   "metadata": {},
   "outputs": [
    {
     "name": "stdout",
     "output_type": "stream",
     "text": [
      "{1: 1, 2: 4, 3: 9, 4: 16, 5: 25, 6: 36, 7: 49, 8: 64, 9: 81, 10: 100, 11: 121, 12: 144, 13: 169, 14: 196, 15: 225, 16: 256, 17: 289, 18: 324, 19: 361, 20: 400, 21: 441, 22: 484, 23: 529, 24: 576, 25: 625}\n"
     ]
    }
   ],
   "source": [
    "squared_dictionary = {num : num**2 for num in range(1,26)}\n",
    "print(squared_dictionary)"
   ]
  },
  {
   "cell_type": "markdown",
   "metadata": {},
   "source": [
    "### Example-5"
   ]
  },
  {
   "cell_type": "code",
   "execution_count": 198,
   "metadata": {},
   "outputs": [
    {
     "name": "stdout",
     "output_type": "stream",
     "text": [
      "{3: ['Ajit', 87], 10: ['Arunish', 79], 19: ['Jayesh', 65], 32: ['Tarang', 82]}\n"
     ]
    }
   ],
   "source": [
    "students_data = {3:[\"Ajit\",87], 10:[\"Arunish\",79], 19:[\"Jayesh\",65], 32:[\"Tarang\",82]}\n",
    "print(students_data)"
   ]
  },
  {
   "cell_type": "code",
   "execution_count": 201,
   "metadata": {},
   "outputs": [
    {
     "name": "stdout",
     "output_type": "stream",
     "text": [
      "{10: 'Arunish', 32: 'Tarang'}\n"
     ]
    }
   ],
   "source": [
    "even_roll = {}\n",
    "\n",
    "for roll, detail in students_data.items():\n",
    "    if roll%2 == 0:\n",
    "        even_roll[roll] = detail[0]\n",
    "        \n",
    "print(even_roll)"
   ]
  },
  {
   "cell_type": "code",
   "execution_count": 202,
   "metadata": {},
   "outputs": [
    {
     "name": "stdout",
     "output_type": "stream",
     "text": [
      "{3: 'Ajit', 19: 'Jayesh'}\n"
     ]
    }
   ],
   "source": [
    "odd_roll = {roll : details[0] for roll,details in students_data.items() if roll%2 != 0}\n",
    "print(odd_roll)"
   ]
  },
  {
   "cell_type": "code",
   "execution_count": null,
   "metadata": {},
   "outputs": [],
   "source": []
  }
 ],
 "metadata": {
  "kernelspec": {
   "display_name": "Python 3",
   "language": "python",
   "name": "python3"
  },
  "language_info": {
   "codemirror_mode": {
    "name": "ipython",
    "version": 3
   },
   "file_extension": ".py",
   "mimetype": "text/x-python",
   "name": "python",
   "nbconvert_exporter": "python",
   "pygments_lexer": "ipython3",
   "version": "3.8.5"
  }
 },
 "nbformat": 4,
 "nbformat_minor": 4
}
